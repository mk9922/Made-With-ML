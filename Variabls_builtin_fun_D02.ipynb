{
  "nbformat": 4,
  "nbformat_minor": 0,
  "metadata": {
    "colab": {
      "provenance": [],
      "authorship_tag": "ABX9TyMeCfDZebYobR/3MXPABJX9",
      "include_colab_link": true
    },
    "kernelspec": {
      "name": "python3",
      "display_name": "Python 3"
    },
    "language_info": {
      "name": "python"
    }
  },
  "cells": [
    {
      "cell_type": "markdown",
      "metadata": {
        "id": "view-in-github",
        "colab_type": "text"
      },
      "source": [
        "<a href=\"https://colab.research.google.com/github/mk9922/Made-With-ML/blob/main/Variabls_builtin_fun_D02.ipynb\" target=\"_parent\"><img src=\"https://colab.research.google.com/assets/colab-badge.svg\" alt=\"Open In Colab\"/></a>"
      ]
    },
    {
      "cell_type": "markdown",
      "source": [
        "Variables:-\n",
        "\n",
        "Python Variable Name Rules\n",
        "\n",
        "    A variable name must start with a letter or the underscore character\n",
        "    A variable name cannot start with a number\n",
        "    A variable name can only contain alpha-numeric characters and underscores (A-z, 0-9, and _ )\n",
        "    Variable names are case-sensitive (firstname, Firstname, FirstName and FIRSTNAME) are different variables)\n"
      ],
      "metadata": {
        "id": "S0sQfwKfZLej"
      }
    },
    {
      "cell_type": "markdown",
      "source": [
        "Valid variable names:-"
      ],
      "metadata": {
        "id": "FZEKrLrJZhhA"
      }
    },
    {
      "cell_type": "code",
      "source": [
        "firstname\n",
        "lastname\n",
        "age\n",
        "country\n",
        "city\n",
        "first_name\n",
        "last_name\n",
        "capital_city\n",
        "_if # if we want to use reserved word as a variable\n",
        "year_2021\n",
        "year2021\n",
        "current_year_2021\n",
        "birth_year\n",
        "num1\n",
        "num2"
      ],
      "metadata": {
        "id": "2jFRaz92ZOl9"
      },
      "execution_count": null,
      "outputs": []
    },
    {
      "cell_type": "markdown",
      "source": [
        "Invalid variables names"
      ],
      "metadata": {
        "id": "-88vWo4dZm0E"
      }
    },
    {
      "cell_type": "code",
      "source": [
        "first-name\n",
        "first@name\n",
        "first$name\n",
        "num-1\n",
        "1num"
      ],
      "metadata": {
        "id": "ZsvqetpiZqga"
      },
      "execution_count": null,
      "outputs": []
    },
    {
      "cell_type": "markdown",
      "source": [
        "Example:-"
      ],
      "metadata": {
        "id": "MvWmp8UoaAVT"
      }
    },
    {
      "cell_type": "code",
      "source": [
        "# Variables in Python\n",
        "first_name = 'Asabeneh'\n",
        "last_name = 'Yetayeh'\n",
        "country = 'Finland'\n",
        "city = 'Helsinki'\n",
        "age = 250\n",
        "is_married = True\n",
        "skills = ['HTML', 'CSS', 'JS', 'React', 'Python']\n",
        "person_info = {\n",
        "   'firstname':'Asabeneh',\n",
        "   'lastname':'Yetayeh',\n",
        "   'country':'Finland',\n",
        "   'city':'Helsinki'\n",
        "   }"
      ],
      "metadata": {
        "id": "pKR23fYaaAAh"
      },
      "execution_count": 6,
      "outputs": []
    },
    {
      "cell_type": "markdown",
      "source": [
        "Use of print() , len() built-in functions."
      ],
      "metadata": {
        "id": "XYsTLEYzaOBb"
      }
    },
    {
      "cell_type": "code",
      "source": [
        "print(first_name)\n",
        "print(last_name)\n",
        "print(country)\n",
        "print(city)\n",
        "print(age)\n",
        "print(is_married)\n",
        "print(skills)\n",
        "print(person_info)\n",
        "print(len(first_name))\n",
        "print(len(last_name))\n",
        "print(len(country))\n",
        "print(len(city))\n",
        "print(len(skills))\n",
        "print(len(person_info))"
      ],
      "metadata": {
        "colab": {
          "base_uri": "https://localhost:8080/"
        },
        "id": "8Xu4pfOxaVsd",
        "outputId": "e0ace81b-1bef-4b1d-dec4-ac54db4b20c1"
      },
      "execution_count": 8,
      "outputs": [
        {
          "output_type": "stream",
          "name": "stdout",
          "text": [
            "Asabeneh\n",
            "Yetayeh\n",
            "Finland\n",
            "Helsinki\n",
            "250\n",
            "True\n",
            "['HTML', 'CSS', 'JS', 'React', 'Python']\n",
            "{'firstname': 'Asabeneh', 'lastname': 'Yetayeh', 'country': 'Finland', 'city': 'Helsinki'}\n",
            "8\n",
            "7\n",
            "7\n",
            "8\n",
            "5\n",
            "4\n"
          ]
        }
      ]
    },
    {
      "cell_type": "code",
      "source": [
        "# Printing the values stored in the variables\n",
        "\n",
        "print('First name:', first_name)\n",
        "print('First name length:', len(first_name))\n",
        "print('Last name: ', last_name)\n",
        "print('Last name length: ', len(last_name))\n",
        "print('Country: ', country)\n",
        "print('City: ', city)\n",
        "print('Age: ', age)\n",
        "print('Married: ', is_married)\n",
        "print('Skills: ', skills)\n",
        "print('Person information: ', person_info)"
      ],
      "metadata": {
        "colab": {
          "base_uri": "https://localhost:8080/"
        },
        "id": "bJwebaDwasq0",
        "outputId": "8c934047-433b-439f-9aed-322553001ed4"
      },
      "execution_count": 9,
      "outputs": [
        {
          "output_type": "stream",
          "name": "stdout",
          "text": [
            "First name: Asabeneh\n",
            "First name length: 8\n",
            "Last name:  Yetayeh\n",
            "Last name length:  7\n",
            "Country:  Finland\n",
            "City:  Helsinki\n",
            "Age:  250\n",
            "Married:  True\n",
            "Skills:  ['HTML', 'CSS', 'JS', 'React', 'Python']\n",
            "Person information:  {'firstname': 'Asabeneh', 'lastname': 'Yetayeh', 'country': 'Finland', 'city': 'Helsinki'}\n"
          ]
        }
      ]
    },
    {
      "cell_type": "markdown",
      "source": [
        "Declarning Multiple variable in a Line"
      ],
      "metadata": {
        "id": "_L6Or3_rc0R7"
      }
    },
    {
      "cell_type": "code",
      "source": [
        "first_name, last_name, country, age, is_married = 'Asabeneh', 'Yetayeh', 'Helsink', 250, True\n",
        "\n",
        "print(first_name, last_name, country, age, is_married)\n",
        "print('First name:', first_name)\n",
        "print('Last name: ', last_name)\n",
        "print('Country: ', country)\n",
        "print('Age: ', age)\n",
        "print('Married: ', is_married)"
      ],
      "metadata": {
        "colab": {
          "base_uri": "https://localhost:8080/"
        },
        "id": "ye-A0N8Wc5na",
        "outputId": "36feef4c-73f1-40ab-a933-92cc438f62c4"
      },
      "execution_count": 10,
      "outputs": [
        {
          "output_type": "stream",
          "name": "stdout",
          "text": [
            "Asabeneh Yetayeh Helsink 250 True\n",
            "First name: Asabeneh\n",
            "Last name:  Yetayeh\n",
            "Country:  Helsink\n",
            "Age:  250\n",
            "Married:  True\n"
          ]
        }
      ]
    },
    {
      "cell_type": "markdown",
      "source": [
        "Getting user input using the input() built-in function. Let us assign the data we get from a user into first_name and age variables. Example:"
      ],
      "metadata": {
        "id": "PGpSY6XQc_Yt"
      }
    },
    {
      "cell_type": "code",
      "source": [
        "first_name = input('What is your name: ')\n",
        "age = input('How old are you? ')\n",
        "\n",
        "print(first_name)\n",
        "print(age)"
      ],
      "metadata": {
        "colab": {
          "base_uri": "https://localhost:8080/"
        },
        "id": "IXwjpx8Gc_Ag",
        "outputId": "fe3cf701-1b3c-47d9-f15a-b30fb21a6c4b"
      },
      "execution_count": 11,
      "outputs": [
        {
          "output_type": "stream",
          "name": "stdout",
          "text": [
            "What is your name: Manoj\n",
            "How old are you? 3\n",
            "Manoj\n",
            "3\n"
          ]
        }
      ]
    },
    {
      "cell_type": "markdown",
      "source": [
        "**Data Types:**.  Check Data types: To check the data type of certain data/variable we use the type Example:"
      ],
      "metadata": {
        "id": "80oY4f4_dTOB"
      }
    },
    {
      "cell_type": "code",
      "source": [
        "# Different python data types\n",
        "# Let's declare variables with various data types\n",
        "\n",
        "first_name = 'Asabeneh'     # str\n",
        "last_name = 'Yetayeh'       # str\n",
        "country = 'Finland'         # str\n",
        "city= 'Helsinki'            # str\n",
        "age = 250                   # int, it is not my real age, don't worry about it\n",
        "\n",
        "# Printing out types\n",
        "print(type('Asabeneh'))     # str\n",
        "print(type(first_name))     # str\n",
        "print(type(10))             # int\n",
        "print(type(3.14))           # float\n",
        "print(type(1 + 1j))         # complex\n",
        "print(type(True))           # bool\n",
        "print(type([1, 2, 3, 4]))     # list\n",
        "print(type({'name':'Asabeneh','age':250, 'is_married':250}))    # dict\n",
        "print(type((1,2)))                                              # tuple\n",
        "print(type(zip([1,2],[3,4])))                                   # set"
      ],
      "metadata": {
        "colab": {
          "base_uri": "https://localhost:8080/"
        },
        "id": "1qd6VA7BdkR1",
        "outputId": "3a6c9735-56d2-4372-d71e-434ae5ca93f1"
      },
      "execution_count": 12,
      "outputs": [
        {
          "output_type": "stream",
          "name": "stdout",
          "text": [
            "<class 'str'>\n",
            "<class 'str'>\n",
            "<class 'int'>\n",
            "<class 'float'>\n",
            "<class 'complex'>\n",
            "<class 'bool'>\n",
            "<class 'list'>\n",
            "<class 'dict'>\n",
            "<class 'tuple'>\n",
            "<class 'zip'>\n"
          ]
        }
      ]
    },
    {
      "cell_type": "markdown",
      "source": [
        "What is zip ? The zip() function returns a zip object, which is an iterator of tuples where the first item in each passed iterator is paired together, and then the second item in each passed iterator are paired together etc.\n",
        "\n",
        "If the passed iterables have different lengths, the iterable with the least items decides the length of the new iterator."
      ],
      "metadata": {
        "id": "3mLZi5-zfe8H"
      }
    },
    {
      "cell_type": "code",
      "source": [
        "a = (\"John\", \"Charles\", \"Mike\")\n",
        "b = (\"Jenny\", \"Christy\", \"Monica\")\n",
        "\n",
        "x = zip(a, b)\n",
        "\n",
        "#use the tuple() function to display a readable version of the result:\n",
        "\n",
        "print(tuple(x))\n"
      ],
      "metadata": {
        "colab": {
          "base_uri": "https://localhost:8080/"
        },
        "id": "ARkcnOySf1vy",
        "outputId": "f68c62da-6cb0-45cd-9c0c-9cd824869ff9"
      },
      "execution_count": 13,
      "outputs": [
        {
          "output_type": "stream",
          "name": "stdout",
          "text": [
            "(('John', 'Jenny'), ('Charles', 'Christy'), ('Mike', 'Monica'))\n"
          ]
        }
      ]
    },
    {
      "cell_type": "markdown",
      "source": [
        "If one tuple contains more items, these items are ignored:"
      ],
      "metadata": {
        "id": "1l4l84BbgQFe"
      }
    },
    {
      "cell_type": "code",
      "source": [
        "a = (\"John\", \"Charles\", \"Mike\")\n",
        "b = (\"Jenny\", \"Christy\", \"Monica\", \"Vicky\")\n",
        "\n",
        "x = zip(a, b)\n",
        "\n",
        "print(tuple(x))"
      ],
      "metadata": {
        "colab": {
          "base_uri": "https://localhost:8080/"
        },
        "id": "Urhos_yVgQ9G",
        "outputId": "9d5f5e2a-d4bd-45d9-817d-2251d6edc843"
      },
      "execution_count": 15,
      "outputs": [
        {
          "output_type": "stream",
          "name": "stdout",
          "text": [
            "(('John', 'Jenny'), ('Charles', 'Christy'), ('Mike', 'Monica'))\n"
          ]
        }
      ]
    },
    {
      "cell_type": "markdown",
      "source": [
        "**Casting** :  Converting one data type to another data type."
      ],
      "metadata": {
        "id": "avvU9dZegb1l"
      }
    },
    {
      "cell_type": "code",
      "source": [
        "num_int = 10\n",
        "print('num_int')\n",
        "num_float = 3.14\n",
        "\n",
        "print(type(num_int))\n",
        "print(type(num_float))"
      ],
      "metadata": {
        "id": "uxGUhJhjgqPe"
      },
      "execution_count": null,
      "outputs": []
    }
  ]
}